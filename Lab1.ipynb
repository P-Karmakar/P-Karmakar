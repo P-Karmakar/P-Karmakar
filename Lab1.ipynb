{
  "nbformat": 4,
  "nbformat_minor": 0,
  "metadata": {
    "colab": {
      "name": "Untitled0.ipynb",
      "provenance": [],
      "authorship_tag": "ABX9TyP5lQcBSVrVt+1fQCuhS2Yd",
      "include_colab_link": true
    },
    "kernelspec": {
      "name": "python3",
      "display_name": "Python 3"
    },
    "language_info": {
      "name": "python"
    }
  },
  "cells": [
    {
      "cell_type": "markdown",
      "metadata": {
        "id": "view-in-github",
        "colab_type": "text"
      },
      "source": [
        "<a href=\"https://colab.research.google.com/github/P-Karmakar/P-Karmakar/blob/main/Lab1.ipynb\" target=\"_parent\"><img src=\"https://colab.research.google.com/assets/colab-badge.svg\" alt=\"Open In Colab\"/></a>"
      ]
    },
    {
      "cell_type": "code",
      "execution_count": 1,
      "metadata": {
        "colab": {
          "base_uri": "https://localhost:8080/"
        },
        "id": "X1PXcraWGSl3",
        "outputId": "45462011-9ed3-416c-fb40-160c7607b6be"
      },
      "outputs": [
        {
          "output_type": "stream",
          "name": "stdout",
          "text": [
            "Enter radius: 4\n",
            "Area of circle is 50.24\n"
          ]
        }
      ],
      "source": [
        "r=int(input('Enter radius: '))\n",
        "area=3.14*r*r\n",
        "print('Area of circle is',area)"
      ]
    },
    {
      "cell_type": "code",
      "source": [
        "b=int(input('Enter base: '))\n",
        "h=int(input('Enter height: '))\n",
        "area=0.5*b*h\n",
        "print('Area is ',area)"
      ],
      "metadata": {
        "colab": {
          "base_uri": "https://localhost:8080/"
        },
        "id": "OqnSQtvZIzGK",
        "outputId": "c969c9f8-3dc0-4d14-eba7-eb61d80ab441"
      },
      "execution_count": 2,
      "outputs": [
        {
          "output_type": "stream",
          "name": "stdout",
          "text": [
            "Enter base: 4\n",
            "Enter height: 2\n",
            "Area is  4.0\n"
          ]
        }
      ]
    },
    {
      "cell_type": "code",
      "source": [
        "a=4\n",
        "b=10\n",
        "print('Before swapping: a=',a,' b=',b)\n",
        "temp=a\n",
        "a=b\n",
        "b=temp\n",
        "print('Afer swapping: a=',a,' b=',b)"
      ],
      "metadata": {
        "colab": {
          "base_uri": "https://localhost:8080/"
        },
        "id": "Q5fiXOh2I8I_",
        "outputId": "c71dfe8e-af91-4e60-c712-2e4f3f8d6ef5"
      },
      "execution_count": 3,
      "outputs": [
        {
          "output_type": "stream",
          "name": "stdout",
          "text": [
            "Before swapping: a= 4  b= 10\n",
            "Afer swapping: a= 10  b= 4\n"
          ]
        }
      ]
    },
    {
      "cell_type": "code",
      "source": [
        "f=float(input('Enter fahrenheit temperature: '))\n",
        "c=(f-32)/1.8\n",
        "print('Corresponding temperature in centigrade is',c)"
      ],
      "metadata": {
        "colab": {
          "base_uri": "https://localhost:8080/"
        },
        "id": "bxgz1ywHJB3M",
        "outputId": "bf0cb1d6-1ef6-4335-9e19-4563bd2cfa2c"
      },
      "execution_count": 4,
      "outputs": [
        {
          "output_type": "stream",
          "name": "stdout",
          "text": [
            "Enter fahrenheit temperature: 61\n",
            "Corresponding temperature in centigrade is 16.11111111111111\n"
          ]
        }
      ]
    },
    {
      "cell_type": "code",
      "source": [
        "c=float(input('Enter centigrade temperature: '))\n",
        "f=1.8*c+32\n",
        "print('Corresponding temperature in fahrenheit is',f)"
      ],
      "metadata": {
        "colab": {
          "base_uri": "https://localhost:8080/"
        },
        "id": "GLldfZi5JInf",
        "outputId": "b5a2a094-5fec-49f9-9e3b-3dc9afd63fab"
      },
      "execution_count": 5,
      "outputs": [
        {
          "output_type": "stream",
          "name": "stdout",
          "text": [
            "Enter centigrade temperature: 16\n",
            "Corresponding temperature in fahrenheit is 60.8\n"
          ]
        }
      ]
    },
    {
      "cell_type": "code",
      "source": [
        "r=int(input('Enter radius: '))\n",
        "p=2*3.14*r\n",
        "print('Permeter of circle is ',p)"
      ],
      "metadata": {
        "colab": {
          "base_uri": "https://localhost:8080/"
        },
        "id": "TQtXo2GCJPOZ",
        "outputId": "1c846a81-0e2e-41b6-a323-a6c9a0f5c8dc"
      },
      "execution_count": 6,
      "outputs": [
        {
          "output_type": "stream",
          "name": "stdout",
          "text": [
            "Enter radius: 3\n",
            "Permeter of circle is  18.84\n"
          ]
        }
      ]
    },
    {
      "cell_type": "code",
      "source": [
        "a=3\n",
        "b=4\n",
        "c=5\n",
        "s=(a+b+c)/2\n",
        "area=(s*(s-a)*(s-b)*(s-c))**0.5\n",
        "print('area of triangle ',area)"
      ],
      "metadata": {
        "colab": {
          "base_uri": "https://localhost:8080/"
        },
        "id": "XdG9pk7tJTad",
        "outputId": "470db6d5-f761-47f4-85b8-51eb7c9d0ada"
      },
      "execution_count": 7,
      "outputs": [
        {
          "output_type": "stream",
          "name": "stdout",
          "text": [
            "area of triangle  6.0\n"
          ]
        }
      ]
    },
    {
      "cell_type": "code",
      "source": [
        "a=2\n",
        "b=5\n",
        "print('Before swapping: a=',a,' b=',b)\n",
        "a=a+b\n",
        "b=a-b\n",
        "a=a-b\n",
        "print('After swapping: a=',a,' b=',b)"
      ],
      "metadata": {
        "colab": {
          "base_uri": "https://localhost:8080/"
        },
        "id": "ZZYj6HoeJX5g",
        "outputId": "ba06150d-eb98-47ab-b2a4-11d9c06659cd"
      },
      "execution_count": 8,
      "outputs": [
        {
          "output_type": "stream",
          "name": "stdout",
          "text": [
            "Before swapping: a= 2  b= 5\n",
            "After swapping: a= 5  b= 2\n"
          ]
        }
      ]
    },
    {
      "cell_type": "code",
      "source": [
        "s=7560\n",
        "h=int(s/3600)\n",
        "m=int((s-h*3600)/60)\n",
        "s=int((s-h*3600-m*60))\n",
        "print('hour: ',h,' min: ',m,' sec: ',s)"
      ],
      "metadata": {
        "colab": {
          "base_uri": "https://localhost:8080/"
        },
        "id": "1JstkmKLJbZM",
        "outputId": "e155eec0-51de-4e4b-f4c1-dc3114ac047c"
      },
      "execution_count": 9,
      "outputs": [
        {
          "output_type": "stream",
          "name": "stdout",
          "text": [
            "hour:  2  min:  6  sec:  0\n"
          ]
        }
      ]
    },
    {
      "cell_type": "code",
      "source": [
        "m=2343\n",
        "km=int(m/1000)\n",
        "m=int(m%1000)\n",
        "print('Km: ',km,' mt: ',m)"
      ],
      "metadata": {
        "colab": {
          "base_uri": "https://localhost:8080/"
        },
        "id": "0IOUAuiSJgSf",
        "outputId": "01c4b1e6-cb09-42c9-b70b-7bb3de8bb035"
      },
      "execution_count": 10,
      "outputs": [
        {
          "output_type": "stream",
          "name": "stdout",
          "text": [
            "Km:  2  mt:  343\n"
          ]
        }
      ]
    },
    {
      "cell_type": "code",
      "source": [
        "s1=98\n",
        "s2=99\n",
        "s3=100\n",
        "s4=99\n",
        "s5=100\n",
        "total=s1+s2+s3+s4+s5\n",
        "avg=total/5\n",
        "per=(total/600)*100\n",
        "print('avg and percenages are ',avg,' ',per,' resp.')"
      ],
      "metadata": {
        "colab": {
          "base_uri": "https://localhost:8080/"
        },
        "id": "RS4_TATYJjd5",
        "outputId": "da86e9e0-95f1-4b86-c5a8-8047ab28c795"
      },
      "execution_count": 11,
      "outputs": [
        {
          "output_type": "stream",
          "name": "stdout",
          "text": [
            "avg and percenages are  99.2   82.66666666666667  resp.\n"
          ]
        }
      ]
    },
    {
      "cell_type": "code",
      "source": [
        "a=5\n",
        "b=19\n",
        "print('Before swapping: a= ',a,' b= ',b)\n",
        "a,b=b,a\n",
        "print('After swapping: a= ',a,' b= ',b)"
      ],
      "metadata": {
        "colab": {
          "base_uri": "https://localhost:8080/"
        },
        "id": "sb9kbCJPJmll",
        "outputId": "0f9171d8-c82d-4dec-a804-37093b502855"
      },
      "execution_count": 12,
      "outputs": [
        {
          "output_type": "stream",
          "name": "stdout",
          "text": [
            "Before swapping: a=  5  b=  19\n",
            "After swapping: a=  19  b=  5\n"
          ]
        }
      ]
    }
  ]
}